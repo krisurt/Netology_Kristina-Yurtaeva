{
 "cells": [
  {
   "cell_type": "code",
   "execution_count": 11,
   "metadata": {},
   "outputs": [
    {
     "name": "stdout",
     "output_type": "stream",
     "text": [
      "Фраза 1 длиннее фразы 2\n"
     ]
    }
   ],
   "source": [
    "#Задание 1\n",
    "phrase_1 = 'Насколько проще было бы писать программы, если бы не заказчики'\n",
    "phrase_2 = '640Кб должно хватить для любых задач. Билл Гейтс (по легенде)'\n",
    "if phrase_1 > phrase_2: \n",
    "    print('Фраза 1 длиннее фразы 2')\n",
    "elif phrase_1 < phrase_2:\n",
    "    print('Фраза 2 длиннее фразы 1')\n",
    "elif phrase_1 == phrase_2:\n",
    "    print('Фразы равной длины')\n",
    "else:\n",
    "    print('Конец')"
   ]
  },
  {
   "cell_type": "code",
   "execution_count": 20,
   "metadata": {},
   "outputs": [
    {
     "name": "stdout",
     "output_type": "stream",
     "text": [
      "Введите год2019\n",
      "Обычный год\n"
     ]
    }
   ],
   "source": [
    "#Задание 2\n",
    "year = int(input('Введите год'))\n",
    "if (year % 4 == 0) and (year % 100 != 0) or (year % 400 == 0):\n",
    "    print('Високосный год')\n",
    "else:\n",
    "    print('Обычный год')"
   ]
  },
  {
   "cell_type": "code",
   "execution_count": 26,
   "metadata": {
    "scrolled": false
   },
   "outputs": [
    {
     "name": "stdout",
     "output_type": "stream",
     "text": [
      "Введите день вашего рождения26\n",
      "Введите месяц вашего рождениямай\n",
      "Ваш знак зодиака: Близнец\n"
     ]
    }
   ],
   "source": [
    "#Задание 3\n",
    "day = int(input('Введите день вашего рождения'))\n",
    "month = input('Введите месяц вашего рождения')\n",
    "if((21 <= day <= 31) and (month == 'март')) or ((1 <= day <= 20) and (month == 'апрель')):\n",
    "    print('Ваш знак зодиака: Овен')\n",
    "elif(21 <= day <= 30 and month == 'апрель') or (1 <= day <= 20 and month == 'май'):\n",
    "    print('Ваш знак зодиака: Телец')\n",
    "elif(21 <= day <= 31 and month == 'май') or (1 <= day <= 21 and month == 'июнь'):\n",
    "    print('Ваш знак зодиака: Близнец')\n",
    "elif(22 <= day <= 30 and month == 'июнь') or (1 <= day <= 22 and month == 'июль'):\n",
    "    print('Ваш знак зодиака: Рак')\n",
    "elif(23 <= day <= 31 and month == 'июль') or (1 <= day <= 23 and month == 'август'):\n",
    "    print('Ваш знак зодиака: Лев')\n",
    "elif(24 <= day <= 31 and month == 'август') or (1 <= day <= 23 and month == 'сентябрь'):\n",
    "    print('Ваш знак зодиака: Дева')\n",
    "elif(24 <= day <= 30 and month == 'сентябрь') or (1 <= day <= 23 and month == 'октябрь'):\n",
    "    print('Ваш знак зодиака: Весы')\n",
    "elif(24 <= day <= 31 and month == 'октябрь') or (1 <= day <= 22 and month == 'ноябрь'):\n",
    "    print('Ваш знак зодиака: Скорпион')\n",
    "elif(23 <= day <= 30 and month == 'ноябрь') or (1 <= day <= 21 and month == 'декабрь'):\n",
    "    print('Ваш знак зодиака: Стрелец')\n",
    "elif(22 <= day <= 31 and month == 'декабрь') or (1 <= day <= 20 and month == 'январь'):\n",
    "    print('Ваш знак зодиака: Козерог')\n",
    "elif(21 <= day <= 30 and month == 'январь') or (1 <= day <= 20 and month == 'февраль'):\n",
    "    print('Ваш знак зодиака: Водолей')\n",
    "elif(21 <= day <= 29 and month == 'февраль') or (1 <= day <= 20 and month == 'март'):\n",
    "    print('Ваш знак зодиака: Рыбы')\n",
    "else:\n",
    "    print('Кажется произошла ошибка, попробуйте снова')"
   ]
  },
  {
   "cell_type": "code",
   "execution_count": 22,
   "metadata": {},
   "outputs": [
    {
     "name": "stdout",
     "output_type": "stream",
     "text": [
      "Упаковка для лыж\n"
     ]
    }
   ],
   "source": [
    "#Задание 4\n",
    "width = 10\n",
    "length = 205\n",
    "height = 5\n",
    "if(width < 15 and length < 15 and heigth < 15):\n",
    "    print('Коробка №1')\n",
    "elif(15 < width < 50 or 15 < length < 50 or 15 < height < 50):\n",
    "    print('Коробка №2')\n",
    "elif length > 200:\n",
    "    print('Упаковка для лыж')\n",
    "else:\n",
    "    print ('Стандартная коробка №3')"
   ]
  }
 ],
 "metadata": {
  "kernelspec": {
   "display_name": "Python 3",
   "language": "python",
   "name": "python3"
  },
  "language_info": {
   "codemirror_mode": {
    "name": "ipython",
    "version": 3
   },
   "file_extension": ".py",
   "mimetype": "text/x-python",
   "name": "python",
   "nbconvert_exporter": "python",
   "pygments_lexer": "ipython3",
   "version": "3.8.3"
  }
 },
 "nbformat": 4,
 "nbformat_minor": 4
}
