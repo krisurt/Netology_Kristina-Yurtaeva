{
 "cells": [
  {
   "cell_type": "code",
   "execution_count": 1,
   "metadata": {},
   "outputs": [],
   "source": [
    "documents = [\n",
    " {'type': 'passport', 'number': '2207 876234', 'name': 'Василий Гупкин'},\n",
    " {'type': 'invoice', 'number': '11-2', 'name': 'Геннадий Покемонов'},\n",
    " {'type': 'insurance', 'number': '10006', 'name': 'Аристарх Павлов'}\n",
    "]\n",
    "\n",
    "directories = {\n",
    " '1': ['2207 876234', '11-2'],\n",
    " '2': ['10006'],\n",
    " '3': []\n",
    "}"
   ]
  },
  {
   "cell_type": "code",
   "execution_count": 2,
   "metadata": {},
   "outputs": [
    {
     "name": "stdout",
     "output_type": "stream",
     "text": [
      "Введите номер документа:11-2\n",
      "Владелец документа: Геннадий Покемонов\n"
     ]
    }
   ],
   "source": [
    "#Пункт 1\n",
    "def find_doc(doc_list):\n",
    "    \"\"\"\n",
    "    Пользователь по команде \"p\" может узнать владельца документа по его номеру\n",
    "    \"\"\"\n",
    "    found = False\n",
    "    user_input_p = input('Введите номер документа:')\n",
    "    for docs in doc_list:\n",
    "        if \"number\" in docs.keys() and docs[\"number\"] == user_input_p:\n",
    "                print(f'Владелец документа: {docs[\"name\"]}')\n",
    "                found = True\n",
    "       \n",
    "    if not found:\n",
    "        print('Документ не найден в базе')\n",
    "        \n",
    "    \n",
    "\n",
    "find_doc(documents)  "
   ]
  },
  {
   "cell_type": "code",
   "execution_count": 3,
   "metadata": {},
   "outputs": [
    {
     "name": "stdout",
     "output_type": "stream",
     "text": [
      "Введите номер документа:11-2\n",
      "Документ хранится на полке:1\n"
     ]
    }
   ],
   "source": [
    "#Пункт 2\n",
    "def doc_at_shelf(directories):\n",
    "    \"\"\"\n",
    "    Пользователь по команде \"s\" может по номеру документа узнать на какой полке он хранится\n",
    "    \"\"\"\n",
    "    found1 = False\n",
    "    user_input_p = input('Введите номер документа:')\n",
    "    for num, doc_num in directories.items():\n",
    "        if user_input_p in doc_num:\n",
    "            print(f'Документ хранится на полке:{num}')\n",
    "            found1 = True\n",
    "            \n",
    "            \n",
    "    if not found1:\n",
    "            print('Документ не найден в базе')\n",
    "doc_at_shelf(directories)\n"
   ]
  },
  {
   "cell_type": "code",
   "execution_count": 4,
   "metadata": {},
   "outputs": [
    {
     "name": "stdout",
     "output_type": "stream",
     "text": [
      "№: 2207 876234, тип: passport, владелец: Василий Гупкин, номер полки: 1\n",
      "№: 11-2, тип: invoice, владелец: Геннадий Покемонов, номер полки: 1\n",
      "№: 10006, тип: insurance, владелец: Аристарх Павлов, номер полки: 2\n"
     ]
    }
   ],
   "source": [
    "#Пункт 3\n",
    "def doc_info(documents, directories):\n",
    "    \"\"\"\n",
    "    Пользователь по команде \"l\" может увидеть полную информацию по всем документам\n",
    "    \"\"\"\n",
    "                \n",
    "    for value in documents:      \n",
    "        dir = list(filter(lambda el: value['number'] in el[1], directories.items()))[0]\n",
    "        value['directory'] = dir[0]\n",
    "        print(f'№: {value[\"number\"]}, тип: {value[\"type\"]}, владелец: {value[\"name\"]}, номер полки: {value[\"directory\"]}')\n",
    "        \n",
    "doc_info(documents, directories)"
   ]
  },
  {
   "cell_type": "code",
   "execution_count": 5,
   "metadata": {},
   "outputs": [
    {
     "name": "stdout",
     "output_type": "stream",
     "text": [
      "Введите номер полки:10\n",
      "Полка добавлена. Текущий перечень полок: ['1', '2', '3', '10']\n"
     ]
    }
   ],
   "source": [
    "#Пункт 4\n",
    "def new_shelf(directories):\n",
    "    \"\"\"\n",
    "    Пользователь по команде \"ads\" может добавить новую полку\n",
    "    \"\"\"\n",
    "    user_input_ads = input('Введите номер полки:')\n",
    "    if user_input_ads not in directories:\n",
    "        directories[user_input_ads] = []\n",
    "        print(f'Полка добавлена. Текущий перечень полок: {list(directories)}')\n",
    "    else:\n",
    "        for key, value in directories.items():\n",
    "            print(f'Такая полка уже существует. Текущий перечень полок: {list(directories)}')\n",
    "            break\n",
    "            \n",
    "new_shelf(directories)"
   ]
  },
  {
   "cell_type": "code",
   "execution_count": 6,
   "metadata": {},
   "outputs": [
    {
     "name": "stdout",
     "output_type": "stream",
     "text": [
      "Введите номер полки:10\n",
      "Полка удалена. Текущий перечень полок: ['1', '2', '3']\n"
     ]
    }
   ],
   "source": [
    "#Пункт 5\n",
    "def del_shelf(directories):\n",
    "    \"\"\"\n",
    "    Пользователь по команде \"ds\" может удалить существующую полку из данных (только если она пустая)\n",
    "    \"\"\"\n",
    "    found2 = False\n",
    "    user_input_ads = input('Введите номер полки:')\n",
    "    if user_input_ads in directories.keys():\n",
    "        if len(directories[user_input_ads]) == 0:\n",
    "            del(directories[user_input_ads])\n",
    "            print(f'Полка удалена. Текущий перечень полок: {list(directories)}')\n",
    "            found2 = True\n",
    "            \n",
    "                \n",
    "        else:\n",
    "            print(f'На полке есть документы, удалите их перед удалением полки. Текущий перечень полок: {list(directories)}')\n",
    "            found2 = True\n",
    "            \n",
    "    else:\n",
    "        print(f'Такой полки не существует. Текущий перечень полок: {list(directories)}')\n",
    "        found2 = True\n",
    "    \n",
    "\n",
    "del_shelf(directories)\n",
    "\n"
   ]
  },
  {
   "cell_type": "code",
   "execution_count": null,
   "metadata": {},
   "outputs": [],
   "source": [
    "def main(documents, directories):\n",
    "    \n",
    "    while True:\n",
    "        user_input = input('Введите команду:')\n",
    "    \n",
    "        if user_input == 'p':\n",
    "            print(find_doc(documents))\n",
    "        elif user_input == 's':\n",
    "            doc_at_shelf(directories)\n",
    "        elif user_input == 'l':\n",
    "            doc_info(documents, directories)\n",
    "        elif user_input == 'ads':\n",
    "            new_shelf(directories)\n",
    "        elif user_input == 'ds':\n",
    "            del_shelf(directories)\n",
    "        elif user_input == 'q':\n",
    "            break\n",
    "        else:\n",
    "            print(\"До встречи!\")\n",
    "            \n",
    "            \n",
    "main(documents, directories)"
   ]
  },
  {
   "cell_type": "code",
   "execution_count": null,
   "metadata": {},
   "outputs": [],
   "source": []
  }
 ],
 "metadata": {
  "kernelspec": {
   "display_name": "Python 3",
   "language": "python",
   "name": "python3"
  },
  "language_info": {
   "codemirror_mode": {
    "name": "ipython",
    "version": 3
   },
   "file_extension": ".py",
   "mimetype": "text/x-python",
   "name": "python",
   "nbconvert_exporter": "python",
   "pygments_lexer": "ipython3",
   "version": "3.8.3"
  }
 },
 "nbformat": 4,
 "nbformat_minor": 4
}
