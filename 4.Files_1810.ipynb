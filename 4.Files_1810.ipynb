{
 "cells": [
  {
   "cell_type": "code",
   "execution_count": 8,
   "metadata": {},
   "outputs": [],
   "source": [
    "import json"
   ]
  },
  {
   "cell_type": "code",
   "execution_count": 106,
   "metadata": {},
   "outputs": [
    {
     "name": "stdout",
     "output_type": "stream",
     "text": [
      "{'user_id': 'user_id', 'category': 'category'}\n",
      "{'user_id': '1840e0b9d4', 'category': 'Продукты'}\n",
      "{'user_id': '4e4f90fcfb', 'category': 'Электроника'}\n",
      "{'user_id': 'afea8d72fc', 'category': 'Электроника'}\n",
      "{'user_id': '373a6055fe', 'category': 'Бытовая техника'}\n",
      "{'user_id': '9b2ab046f3', 'category': 'Электроника'}\n"
     ]
    }
   ],
   "source": [
    "f=open('purchase_log.txt', 'r', encoding = 'utf-8')\n",
    "i=0\n",
    "for m in f:\n",
    "        table = m.strip()\n",
    "        dict_ = json.loads(table)\n",
    "        print(dict_)\n",
    "        i += 1\n",
    "        if i > 5:\n",
    "            break\n",
    "            "
   ]
  },
  {
   "cell_type": "code",
   "execution_count": 131,
   "metadata": {},
   "outputs": [
    {
     "name": "stdout",
     "output_type": "stream",
     "text": [
      "<built-in method readlines of _io.TextIOWrapper object at 0x0000021B8C130520>\n"
     ]
    }
   ],
   "source": [
    "\n",
    "with open('visit_log.csv', 'r', encoding = \"utf-8\") as s:\n",
    "    with open('funnel.csv', 'w', encoding = \"utf-8\") as k:\n",
    "        for line in s:\n",
    "            another_line = line.strip().split(',')\n",
    "            k.write('another_line')\n",
    "            \n",
    "            for v in dict_:\n",
    "                if v in another_line:\n",
    "                    k.write(dict_['category'])\n",
    "                    final = k.readlines\n",
    "                    print(final)\n",
    "                    \n",
    "            "
   ]
  },
  {
   "cell_type": "code",
   "execution_count": null,
   "metadata": {},
   "outputs": [],
   "source": []
  }
 ],
 "metadata": {
  "kernelspec": {
   "display_name": "Python 3",
   "language": "python",
   "name": "python3"
  },
  "language_info": {
   "codemirror_mode": {
    "name": "ipython",
    "version": 3
   },
   "file_extension": ".py",
   "mimetype": "text/x-python",
   "name": "python",
   "nbconvert_exporter": "python",
   "pygments_lexer": "ipython3",
   "version": "3.8.3"
  }
 },
 "nbformat": 4,
 "nbformat_minor": 4
}
