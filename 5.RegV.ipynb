{
 "cells": [
  {
   "cell_type": "code",
   "execution_count": 2,
   "metadata": {},
   "outputs": [],
   "source": [
    "import re\n"
   ]
  },
  {
   "cell_type": "code",
   "execution_count": 16,
   "metadata": {},
   "outputs": [
    {
     "name": "stdout",
     "output_type": "stream",
     "text": [
      "Номер А222лC валиден. Регион: 96\n"
     ]
    }
   ],
   "source": [
    "#Задание 1 \n",
    "car_id = 'А222лC96'\n",
    "find_car_id = r'(\\w{1}\\d{3}\\w{2})(\\d{2,3})'\n",
    "for_print = re.search(find_car_id, car_id)\n",
    "if for_print is None:\n",
    "    print(f'Номер не валиден')\n",
    "else:\n",
    "    print(f'Номер {for_print.group(1)} валиден. Регион: {for_print.group(2)}')"
   ]
  },
  {
   "cell_type": "code",
   "execution_count": 59,
   "metadata": {},
   "outputs": [
    {
     "data": {
      "text/plain": [
       "'Напишите функцию, которая будет удалять все последовательные повторы слов из заданной строки при помощи регулярных выражений.'"
      ]
     },
     "execution_count": 59,
     "metadata": {},
     "output_type": "execute_result"
    }
   ],
   "source": [
    "#Задание 2\n",
    "some_string = 'Напишите функцию функцию, которая будет будет будет будет удалять все все все все последовательные повторы слов из из из из заданной строки строки при помощи регулярных выражений.'\n",
    "re.sub(r'(\\w+)(\\s\\1)+', r'\\1', some_string)"
   ]
  },
  {
   "cell_type": "code",
   "execution_count": 124,
   "metadata": {},
   "outputs": [
    {
     "name": "stdout",
     "output_type": "stream",
     "text": [
      "NFCВ"
     ]
    }
   ],
   "source": [
    "#Задание 3\n",
    "some_words = 'Near Field Communication вжд'\n",
    "text = some_words.split(' ')\n",
    "\n",
    "for el in text:\n",
    "    result = re.sub(r\"(\\w{1})\\w+\",r'\\1',el)\n",
    "    print(result.upper(),end='')"
   ]
  },
  {
   "cell_type": "code",
   "execution_count": 145,
   "metadata": {},
   "outputs": [
    {
     "name": "stdout",
     "output_type": "stream",
     "text": [
      "{'gmail.com': 2, 'test.in': 1, 'ya.ru': 2, 'mail.ru': 1}\n"
     ]
    }
   ],
   "source": [
    "#Задание 4\n",
    "emails = ['test@gmail.com', 'xyz@test.in', 'test@ya.ru', 'xyz@mail.ru', 'xyz@ya.ru', 'xyz@gmail.com']\n",
    "list_mail = {}\n",
    "\n",
    "for mails in emails:\n",
    "    k = re.sub(r'\\w+@(\\w+\\.\\w{2,3})', r'\\1', mails)\n",
    "    if k not in list_mail:\n",
    "        list_mail[k] = 1\n",
    "    else:\n",
    "        list_mail[k] += 1\n",
    "\n",
    "        \n",
    "print(list_mail)\n"
   ]
  },
  {
   "cell_type": "code",
   "execution_count": null,
   "metadata": {},
   "outputs": [],
   "source": []
  }
 ],
 "metadata": {
  "kernelspec": {
   "display_name": "Python 3",
   "language": "python",
   "name": "python3"
  },
  "language_info": {
   "codemirror_mode": {
    "name": "ipython",
    "version": 3
   },
   "file_extension": ".py",
   "mimetype": "text/x-python",
   "name": "python",
   "nbconvert_exporter": "python",
   "pygments_lexer": "ipython3",
   "version": "3.8.3"
  }
 },
 "nbformat": 4,
 "nbformat_minor": 4
}
