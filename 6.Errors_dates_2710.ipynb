{
 "cells": [
  {
   "cell_type": "code",
   "execution_count": 4,
   "metadata": {},
   "outputs": [],
   "source": [
    "#Задание 1 \n",
    "#Печатные газеты использовали свой формат дат для каждого выпуска. \n",
    "#Для каждой газеты из списка напишите формат указанной даты для перевода в объект datetime:\n",
    "TMT = 'Wednesday, October 2, 2002'\n",
    "TG = 'Friday, 11.10.13'\n",
    "DN = 'Thursday, 18 August 1977'\n"
   ]
  },
  {
   "cell_type": "code",
   "execution_count": 2,
   "metadata": {},
   "outputs": [],
   "source": [
    "from datetime import datetime"
   ]
  },
  {
   "cell_type": "code",
   "execution_count": 10,
   "metadata": {},
   "outputs": [],
   "source": [
    "TMT_format = datetime.strptime(TMT, '%A, %B %d, %Y')\n",
    "TG_format = datetime.strptime(TG, '%A, %d.%m.%y')\n",
    "DN_format = datetime.strptime(DN, '%A,  %d %B %Y')"
   ]
  },
  {
   "cell_type": "code",
   "execution_count": 23,
   "metadata": {},
   "outputs": [
    {
     "name": "stdout",
     "output_type": "stream",
     "text": [
      "дата корректна 2018-04-02\n",
      "некорректная дата 2018-02-29\n"
     ]
    }
   ],
   "source": [
    "#Задание 2\n",
    "#Дан поток дат в формате YYYY-MM-DD, в которых встречаются некорректные значения:\n",
    "#Напишите функцию, которая проверяет эти даты на корректность. \n",
    "#Т. е. для каждой даты возвращает True (дата корректна) или False (некорректная дата).\n",
    "\n",
    "stream = ['2018-04-02', '2018-02-29', '2018-19-02']\n",
    "\n",
    "try:\n",
    "    for el in stream:\n",
    "        datetime.strptime(el, '%Y-%m-%d')\n",
    "        print(\"дата корректна\", el)\n",
    "except:\n",
    "    print(\"некорректная дата\", el)\n",
    "    pass"
   ]
  },
  {
   "cell_type": "code",
   "execution_count": 51,
   "metadata": {},
   "outputs": [],
   "source": [
    "from datetime import timedelta"
   ]
  },
  {
   "cell_type": "code",
   "execution_count": 77,
   "metadata": {},
   "outputs": [
    {
     "name": "stdout",
     "output_type": "stream",
     "text": [
      "2020-10-01\n",
      "2020-10-02\n",
      "2020-10-03\n",
      "2020-10-04\n",
      "2020-10-05\n",
      "2020-10-06\n",
      "2020-10-07\n",
      "2020-10-08\n",
      "2020-10-09\n",
      "2020-10-10\n"
     ]
    }
   ],
   "source": [
    "#Задание 3\n",
    "#Напишите функцию date_range, которая возвращает список дат за период от start_date до end_date. \n",
    "#Даты должны вводиться в формате YYYY-MM-DD. \n",
    "#В случае неверного формата или при start_date > end_date должен возвращаться пустой список.\n",
    "\n",
    "start_date = '2020-10-01'\n",
    "end_date = '2020-10-10'\n",
    "\n",
    "try:\n",
    "    \n",
    "    start_date_format = datetime.strptime(start_date,'%Y-%m-%d')\n",
    "    end_date_format = datetime.strptime(end_date,'%Y-%m-%d')\n",
    "    final_list = start_date_format\n",
    "    try:\n",
    "        while final_list <= end_date_format:\n",
    "            print(datetime.strftime(final_list,'%Y-%m-%d'))\n",
    "            final_list = final_list + timedelta(days=1)\n",
    "    except:\n",
    "        print([])\n",
    "        \n",
    "except ValueError:\n",
    "    print([])"
   ]
  },
  {
   "cell_type": "code",
   "execution_count": null,
   "metadata": {},
   "outputs": [],
   "source": []
  }
 ],
 "metadata": {
  "kernelspec": {
   "display_name": "Python 3",
   "language": "python",
   "name": "python3"
  },
  "language_info": {
   "codemirror_mode": {
    "name": "ipython",
    "version": 3
   },
   "file_extension": ".py",
   "mimetype": "text/x-python",
   "name": "python",
   "nbconvert_exporter": "python",
   "pygments_lexer": "ipython3",
   "version": "3.8.3"
  }
 },
 "nbformat": 4,
 "nbformat_minor": 4
}
