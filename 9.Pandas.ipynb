{
 "cells": [
  {
   "cell_type": "code",
   "execution_count": 1,
   "metadata": {},
   "outputs": [],
   "source": [
    "import pandas as pd"
   ]
  },
  {
   "cell_type": "markdown",
   "metadata": {},
   "source": [
    "Задание 1\n",
    "Скачайте с сайта https://grouplens.org/datasets/movielens/ датасет любого размера. Определите какому фильму было выставлено больше всего оценок 5.0."
   ]
  },
  {
   "cell_type": "code",
   "execution_count": 81,
   "metadata": {},
   "outputs": [
    {
     "name": "stdout",
     "output_type": "stream",
     "text": [
      "153\n"
     ]
    }
   ],
   "source": [
    "rating_file = pd.read_csv('ratings.csv')\n",
    "mark_five = rating_file[ rating_file.rating == 5 ]\n",
    "k = mark_five['movieId'].value_counts()\n",
    "print(max(k))"
   ]
  },
  {
   "cell_type": "markdown",
   "metadata": {},
   "source": [
    "Задание 2\n",
    "По данным файла power.csv посчитайте суммарное потребление стран Прибалтики (Латвия, Литва и Эстония) категорий 4, 12 и 21 за период с 2005 по 2010 года. Не учитывайте в расчетах отрицательные значения quantity."
   ]
  },
  {
   "cell_type": "code",
   "execution_count": 77,
   "metadata": {},
   "outputs": [
    {
     "name": "stdout",
     "output_type": "stream",
     "text": [
      "240580.0\n"
     ]
    }
   ],
   "source": [
    "data = pd.read_csv('power.csv')\n",
    "filtered_countries = data[ (data['country']=='Latvia') | (data['country']=='Lithuania') | (data['country']=='Estonia') ] \n",
    "filtered_countries_and_category = filtered_countries[ (filtered_countries['category']== 4) | (filtered_countries['category']== 12) | (filtered_countries['category']== 21) ]\n",
    "filtr_year = filtered_countries_and_category[ (filtered_countries_and_category['year'] >= 2005) & (filtered_countries_and_category['year'] <= 2010) ]\n",
    "quantity_filtr = filtr_year[ (filtr_year['quantity'] >= 0) ]\n",
    "print(sum(quantity_filtr['quantity']))"
   ]
  },
  {
   "cell_type": "markdown",
   "metadata": {},
   "source": [
    "Задание 3\n",
    "Выберите страницу любого сайта с табличными данными. Импортируйте таблицы в pandas dataframe.\n",
    "Примеры страниц (необязательно брать именно эти):\n",
    "https://fortrader.org/quotes\n",
    "https://www.finanz.ru/valyuty/v-realnom-vremeni"
   ]
  },
  {
   "cell_type": "code",
   "execution_count": 91,
   "metadata": {},
   "outputs": [
    {
     "data": {
      "text/html": [
       "<div>\n",
       "<style scoped>\n",
       "    .dataframe tbody tr th:only-of-type {\n",
       "        vertical-align: middle;\n",
       "    }\n",
       "\n",
       "    .dataframe tbody tr th {\n",
       "        vertical-align: top;\n",
       "    }\n",
       "\n",
       "    .dataframe thead th {\n",
       "        text-align: right;\n",
       "    }\n",
       "</style>\n",
       "<table border=\"1\" class=\"dataframe\">\n",
       "  <thead>\n",
       "    <tr style=\"text-align: right;\">\n",
       "      <th></th>\n",
       "      <th>0</th>\n",
       "      <th>1</th>\n",
       "      <th>2</th>\n",
       "      <th>3</th>\n",
       "      <th>4</th>\n",
       "      <th>5</th>\n",
       "      <th>6</th>\n",
       "      <th>7</th>\n",
       "      <th>8</th>\n",
       "      <th>9</th>\n",
       "      <th>10</th>\n",
       "      <th>11</th>\n",
       "    </tr>\n",
       "  </thead>\n",
       "  <tbody>\n",
       "    <tr>\n",
       "      <th>0</th>\n",
       "      <td>ММВБ</td>\n",
       "      <td>2 691</td>\n",
       "      <td>-0,7%</td>\n",
       "      <td>Nasdaq</td>\n",
       "      <td>10 912</td>\n",
       "      <td>-2,5%</td>\n",
       "      <td>Биткойн</td>\n",
       "      <td>13 509</td>\n",
       "      <td>-0,5%</td>\n",
       "      <td>USD/RUB</td>\n",
       "      <td>793720</td>\n",
       "      <td>0,6%</td>\n",
       "    </tr>\n",
       "    <tr>\n",
       "      <th>1</th>\n",
       "      <td>РТС</td>\n",
       "      <td>1 067</td>\n",
       "      <td>-1,2%</td>\n",
       "      <td>S&amp;P500</td>\n",
       "      <td>3 270</td>\n",
       "      <td>-1,2%</td>\n",
       "      <td>Нефть</td>\n",
       "      <td>375</td>\n",
       "      <td>-0,5%</td>\n",
       "      <td>EUR/RUB</td>\n",
       "      <td>924750</td>\n",
       "      <td>0,5%</td>\n",
       "    </tr>\n",
       "    <tr>\n",
       "      <th>2</th>\n",
       "      <td>Dow</td>\n",
       "      <td>26 502</td>\n",
       "      <td>-0,6%</td>\n",
       "      <td>FTSE100</td>\n",
       "      <td>5 577</td>\n",
       "      <td>-0,1%</td>\n",
       "      <td>Золото</td>\n",
       "      <td>1 879</td>\n",
       "      <td>0,0%</td>\n",
       "      <td>EUR/USD</td>\n",
       "      <td>11677</td>\n",
       "      <td>0,1%</td>\n",
       "    </tr>\n",
       "  </tbody>\n",
       "</table>\n",
       "</div>"
      ],
      "text/plain": [
       "     0       1      2        3       4      5        6       7      8   \\\n",
       "0  ММВБ   2 691  -0,7%   Nasdaq  10 912  -2,5%  Биткойн  13 509  -0,5%   \n",
       "1   РТС   1 067  -1,2%   S&P500   3 270  -1,2%    Нефть     375  -0,5%   \n",
       "2   Dow  26 502  -0,6%  FTSE100   5 577  -0,1%   Золото   1 879   0,0%   \n",
       "\n",
       "        9       10    11  \n",
       "0  USD/RUB  793720  0,6%  \n",
       "1  EUR/RUB  924750  0,5%  \n",
       "2  EUR/USD   11677  0,1%  "
      ]
     },
     "execution_count": 91,
     "metadata": {},
     "output_type": "execute_result"
    }
   ],
   "source": [
    "pd.read_html('https://www.finanz.ru/valyuty/v-realnom-vremeni', encoding = 'utf-8')[0]"
   ]
  },
  {
   "cell_type": "code",
   "execution_count": null,
   "metadata": {},
   "outputs": [],
   "source": []
  }
 ],
 "metadata": {
  "kernelspec": {
   "display_name": "Python 3",
   "language": "python",
   "name": "python3"
  },
  "language_info": {
   "codemirror_mode": {
    "name": "ipython",
    "version": 3
   },
   "file_extension": ".py",
   "mimetype": "text/x-python",
   "name": "python",
   "nbconvert_exporter": "python",
   "pygments_lexer": "ipython3",
   "version": "3.8.3"
  }
 },
 "nbformat": 4,
 "nbformat_minor": 4
}
