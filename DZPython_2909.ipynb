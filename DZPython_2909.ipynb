{
 "cells": [
  {
   "cell_type": "code",
   "execution_count": 17,
   "metadata": {},
   "outputs": [
    {
     "name": "stdout",
     "output_type": "stream",
     "text": [
      "es\n"
     ]
    }
   ],
   "source": [
    "#Задание 1\n",
    "word = 'test'\n",
    "if len(word) % 2 == 0:\n",
    "    print(word [1:3])\n",
    "else:\n",
    "    print(word [3])"
   ]
  },
  {
   "cell_type": "code",
   "execution_count": 27,
   "metadata": {},
   "outputs": [
    {
     "name": "stdout",
     "output_type": "stream",
     "text": [
      "12\n",
      "1\n",
      "0\n",
      "13\n"
     ]
    }
   ],
   "source": [
    "#Задание 2\n",
    "sum = 0\n",
    "a = int(input())\n",
    "sum += a\n",
    "while a != 0:\n",
    "  a = int(input())\n",
    "  sum += a\n",
    "print(sum)"
   ]
  },
  {
   "cell_type": "code",
   "execution_count": 8,
   "metadata": {},
   "outputs": [
    {
     "name": "stdout",
     "output_type": "stream",
     "text": [
      " Alex и Emma , Arthur и Kate , John и Kira, Peter и Liza, Richard и Trisha\n"
     ]
    }
   ],
   "source": [
    "#Задание 3\n",
    "boys = ['Peter', 'Alex', 'John', 'Arthur', 'Richard']\n",
    "girls = ['Kate', 'Liza', 'Kira', 'Emma', 'Trisha']\n",
    "boys2 = sorted(boys)\n",
    "girls2 = sorted(girls)\n",
    "if len(boys) == len(girls):\n",
    "    pairs = f\" {boys2[0]} и {girls2[0]} , {boys2[1]} и {girls2[1]} , {boys2[2]} и {girls2[2]}, {boys2[3]} и {girls2[3]}, {boys2[4]} и {girls2[4]}\"\n",
    "    print(pairs)\n",
    "else:\n",
    "    print('Внимание, кто-то может остаться без пары!')"
   ]
  },
  {
   "cell_type": "code",
   "execution_count": 9,
   "metadata": {},
   "outputs": [
    {
     "name": "stdout",
     "output_type": "stream",
     "text": [
      "Средняя температура в странах\n",
      "Thailand - 23.9 C\n",
      "Germany - 13.8 C\n",
      "Russia - 3.7 C\n",
      "Poland - 12.0 C\n"
     ]
    }
   ],
   "source": [
    "#Задание 4\n",
    "countries_temperature = [\n",
    "    ['Thailand', [75.2, 77, 78.8, 73.4, 68, 75.2, 77]],\n",
    "    ['Germany', [57.2, 55.4, 59, 59, 53.6]],\n",
    "    ['Russia', [35.6, 37.4, 39.2, 41, 42.8, 39.2, 35.6]],\n",
    "    ['Poland', [50, 50, 53.6, 57.2, 55.4, 55.4]]\n",
    "]\n",
    "countries = []\n",
    "temps = [0]*len(countries_temperature)\n",
    "for i in range(len(countries_temperature)):\n",
    "    for j in range(len(countries_temperature[i])):\n",
    "        if j == 0:\n",
    "            countries.append(countries_temperature[i][j])\n",
    "        elif j != 0:\n",
    "            for n in range (len(countries_temperature [i][j])):\n",
    "                temps[i] += ((countries_temperature [i][j][n] - 32) * 5)/(9*len(countries_temperature[i][j]))\n",
    "print('Средняя температура в странах')\n",
    "for i in range(len(countries_temperature)):\n",
    "    print(f\"{countries[i]} - {round(temps[i],1)} C\")"
   ]
  },
  {
   "cell_type": "code",
   "execution_count": null,
   "metadata": {},
   "outputs": [],
   "source": []
  }
 ],
 "metadata": {
  "kernelspec": {
   "display_name": "Python 3",
   "language": "python",
   "name": "python3"
  },
  "language_info": {
   "codemirror_mode": {
    "name": "ipython",
    "version": 3
   },
   "file_extension": ".py",
   "mimetype": "text/x-python",
   "name": "python",
   "nbconvert_exporter": "python",
   "pygments_lexer": "ipython3",
   "version": "3.8.3"
  }
 },
 "nbformat": 4,
 "nbformat_minor": 4
}
