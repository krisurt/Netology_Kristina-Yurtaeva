{
 "cells": [
  {
   "cell_type": "code",
   "execution_count": 46,
   "metadata": {},
   "outputs": [
    {
     "name": "stdout",
     "output_type": "stream",
     "text": [
      "es\n"
     ]
    }
   ],
   "source": [
    "#Задание 1\n",
    "word = 'test'\n",
    "m = int(len(word)/2)\n",
    "if len(word) % 2 == 0:\n",
    "    print(word[m-1:m+1])\n",
    "else:\n",
    "    print(word [m])"
   ]
  },
  {
   "cell_type": "code",
   "execution_count": null,
   "metadata": {},
   "outputs": [],
   "source": [
    "#Задание 2\n",
    "sum_ = 0\n",
    "a = int(input())\n",
    "sum_ += a\n",
    "while a != 0:\n",
    "    a = int(input())\n",
    "    sum_ += a\n",
    "print(sum_)"
   ]
  },
  {
   "cell_type": "code",
   "execution_count": 100,
   "metadata": {},
   "outputs": [
    {
     "name": "stdout",
     "output_type": "stream",
     "text": [
      "Внимание, кто-то может остаться без пары!\n"
     ]
    }
   ],
   "source": [
    "#Задание 3\n",
    "boys = ['Peter', 'Alex', 'John', 'Arthur', 'Richard', 'Peter']\n",
    "girls = ['Kate', 'Liza', 'Kira', 'Emma', 'Trisha']\n",
    "boys2 = sorted(boys)\n",
    "girls2 = sorted(girls)\n",
    "\n",
    "if len(boys) == len(girls):\n",
    "    for boys_one, girls_one in zip(boys2, girls2):\n",
    "        print(f'{boys_one} и ')\n",
    "        for girls_ in girls_one:\n",
    "            print(girls_)\n",
    "        print()\n",
    "else:\n",
    "    print('Внимание, кто-то может остаться без пары!')"
   ]
  },
  {
   "cell_type": "code",
   "execution_count": 9,
   "metadata": {},
   "outputs": [
    {
     "name": "stdout",
     "output_type": "stream",
     "text": [
      "Средняя температура в странах\n",
      "Thailand - 23.9 C\n",
      "Germany - 13.8 C\n",
      "Russia - 3.7 C\n",
      "Poland - 12.0 C\n"
     ]
    }
   ],
   "source": [
    "#Задание 4\n",
    "countries_temperature = [\n",
    "    ['Thailand', [75.2, 77, 78.8, 73.4, 68, 75.2, 77]],\n",
    "    ['Germany', [57.2, 55.4, 59, 59, 53.6]],\n",
    "    ['Russia', [35.6, 37.4, 39.2, 41, 42.8, 39.2, 35.6]],\n",
    "    ['Poland', [50, 50, 53.6, 57.2, 55.4, 55.4]]\n",
    "]\n",
    "countries = []\n",
    "temps = [0]*len(countries_temperature)\n",
    "for i in range(len(countries_temperature)):\n",
    "    for j in range(len(countries_temperature[i])):\n",
    "        if j == 0:\n",
    "            countries.append(countries_temperature[i][j])\n",
    "        elif j != 0:\n",
    "            for n in range (len(countries_temperature [i][j])):\n",
    "                temps[i] += ((countries_temperature [i][j][n] - 32) * 5)/(9*len(countries_temperature[i][j]))\n",
    "print('Средняя температура в странах')\n",
    "for i in range(len(countries_temperature)):\n",
    "    print(f\"{countries[i]} - {round(temps[i],1)} C\")"
   ]
  },
  {
   "cell_type": "code",
   "execution_count": null,
   "metadata": {},
   "outputs": [],
   "source": []
  }
 ],
 "metadata": {
  "kernelspec": {
   "display_name": "Python 3",
   "language": "python",
   "name": "python3"
  },
  "language_info": {
   "codemirror_mode": {
    "name": "ipython",
    "version": 3
   },
   "file_extension": ".py",
   "mimetype": "text/x-python",
   "name": "python",
   "nbconvert_exporter": "python",
   "pygments_lexer": "ipython3",
   "version": "3.8.3"
  }
 },
 "nbformat": 4,
 "nbformat_minor": 4
}
