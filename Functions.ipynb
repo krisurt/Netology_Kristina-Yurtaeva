{
 "cells": [
  {
   "cell_type": "code",
   "execution_count": null,
   "metadata": {},
   "outputs": [],
   "source": [
    "documents = [\n",
    " {'type': 'passport', 'number': '2207 876234', 'name': 'Василий Гупкин'},\n",
    " {'type': 'invoice', 'number': '11-2', 'name': 'Геннадий Покемонов'},\n",
    " {'type': 'insurance', 'number': '10006', 'name': 'Аристарх Павлов'}\n",
    "]\n",
    "\n",
    "directories = {\n",
    " '1': ['2207 876234', '11-2'],\n",
    " '2': ['10006'],\n",
    " '3': []\n",
    "}\n",
    "\n"
   ]
  },
  {
   "cell_type": "code",
   "execution_count": 125,
   "metadata": {},
   "outputs": [
    {
     "name": "stdout",
     "output_type": "stream",
     "text": [
      "Введите номер документа:11-2\n",
      "Документ не найден в базе\n",
      "Документ не найден в базе\n",
      "Документ не найден в базе\n"
     ]
    }
   ],
   "source": [
    "#Пункт 1\n",
    "def find_doc(doc_list):\n",
    "    \"\"\"\n",
    "    Пользователь по команде \"p\" может узнать владельца документа по его номеру\n",
    "    \"\"\"\n",
    "    user_input_p = input('Введите номер документа:')\n",
    "    for docs in doc_list:\n",
    "        for key, value in docs.items():\n",
    "            if key == \"number\" and value == user_input_p:\n",
    "                print(f'Владелец документа: {docs[\"name\"]}')\n",
    "                break\n",
    "       \n",
    "            else:\n",
    "                print('Документ не найден в базе')\n",
    "                break\n",
    "    \n",
    "\n",
    "find_doc(documents)  "
   ]
  },
  {
   "cell_type": "code",
   "execution_count": 55,
   "metadata": {},
   "outputs": [
    {
     "name": "stdout",
     "output_type": "stream",
     "text": [
      "Введите номер документа:11-2\n",
      "Документ хранится на полке:1\n"
     ]
    }
   ],
   "source": [
    "#Пункт 2\n",
    "def doc_at_shelf(directories):\n",
    "    \"\"\"\n",
    "    Пользователь по команде \"s\" может по номеру документа узнать на какой полке он хранится\n",
    "    \"\"\"\n",
    "    user_input_p = input('Введите номер документа:')\n",
    "    for num, doc_num in directories.items():\n",
    "        if user_input_p in doc_num:\n",
    "            print(f'Документ хранится на полке:{num}')\n",
    "            break\n",
    "        else:\n",
    "            print('Документ не найден в базе')\n",
    "doc_at_shelf(directories)"
   ]
  },
  {
   "cell_type": "code",
   "execution_count": 122,
   "metadata": {},
   "outputs": [
    {
     "name": "stdout",
     "output_type": "stream",
     "text": [
      "№: 2207 876234, тип: passport, владелец: Василий Гупкин\n",
      "№: 11-2, тип: invoice, владелец: Геннадий Покемонов\n",
      "№: 10006, тип: insurance, владелец: Аристарх Павлов\n"
     ]
    }
   ],
   "source": [
    "#Пункт 3\n",
    "def doc_info(documents, directories):\n",
    "    \"\"\"\n",
    "    Пользователь по команде \"l\" может увидеть полную информацию по всем документам\n",
    "    \"\"\"\n",
    "       \n",
    "    for value in documents:\n",
    "        print( f'№: {value[\"number\"]}, тип: {value[\"type\"]}, владелец: {value[\"name\"]}')\n",
    "        \n",
    "doc_info(documents, directories)"
   ]
  },
  {
   "cell_type": "code",
   "execution_count": 142,
   "metadata": {},
   "outputs": [
    {
     "name": "stdout",
     "output_type": "stream",
     "text": [
      "Введите номер полки:11-2\n",
      "Полка добавлена. Текущий перечень полок: ['1', '2', '3', '10', '9', '8', '11-2']\n"
     ]
    }
   ],
   "source": [
    "#Пункт 4\n",
    "def new_shelf(directories):\n",
    "    \"\"\"\n",
    "    Пользователь по команде \"ads\" может добавить новую полку\n",
    "    \"\"\"\n",
    "    user_input_ads = input('Введите номер полки:')\n",
    "    if user_input_ads not in directories:\n",
    "        directories[user_input_ads] = []\n",
    "        print(f'Полка добавлена. Текущий перечень полок: {list(directories)}')\n",
    "    else:\n",
    "        for key, value in directories.items():\n",
    "            print(f'Такая полка уже существует. Текущий перечень полок: {list(directories)}')\n",
    "            break\n",
    "            \n",
    "new_shelf(directories)"
   ]
  },
  {
   "cell_type": "code",
   "execution_count": null,
   "metadata": {},
   "outputs": [],
   "source": [
    "#Пункт 5\n",
    "def del_shelf(directories):\n",
    "    \"\"\"\n",
    "    Пользователь по команде \"ds\" может удалить существующую полку из данных (только если она пустая)\n",
    "    \"\"\"\n",
    "    user_input_ads = input('Введите номер полки:')\n",
    "    if user_input_ads in directories:\n",
    "        for key, value in directories.items():\n",
    "        if user_input_ads in directories.keys() and value is None:\n",
    "            del(directories[user_input_ads])\n",
    "            print(f'Полка удалена. Текущий перечень полок: {list(directories)}')\n",
    "            \n",
    "                \n",
    "        else:\n",
    "            print(f'На полке есть документы, удалите их перед удалением полки. Текущий перечень полок: {list(directories)}')\n",
    "            \n",
    "    else:\n",
    "        print(f'Такой полки не существует. Текущий перечень полок: {list(directories)}')\n",
    "    \n",
    "            \n",
    "del_shelf(directories)\n",
    "print(directories)"
   ]
  },
  {
   "cell_type": "code",
   "execution_count": null,
   "metadata": {},
   "outputs": [],
   "source": [
    "def main():\n",
    "    user_input = input('Введите команду:')\n",
    "    while user_input == 'q':\n",
    "    \n",
    "        if user_input == 'p':\n",
    "            find_doc(documents)\n",
    "        elif user_input == 's':\n",
    "            doc_at_shelf(directories)\n",
    "        elif user_input == 'l':\n",
    "            doc_info(documents, directories)\n",
    "        elif user_input == 'ads':\n",
    "            new_shelf(directories)\n",
    "        elif user_input == 'ds':\n",
    "            del_shelf(directories)\n",
    "        else:\n",
    "            print(\"До встречи!\")\n",
    "            break\n"
   ]
  },
  {
   "cell_type": "code",
   "execution_count": null,
   "metadata": {},
   "outputs": [],
   "source": []
  }
 ],
 "metadata": {
  "kernelspec": {
   "display_name": "Python 3",
   "language": "python",
   "name": "python3"
  },
  "language_info": {
   "codemirror_mode": {
    "name": "ipython",
    "version": 3
   },
   "file_extension": ".py",
   "mimetype": "text/x-python",
   "name": "python",
   "nbconvert_exporter": "python",
   "pygments_lexer": "ipython3",
   "version": "3.8.3"
  }
 },
 "nbformat": 4,
 "nbformat_minor": 4
}
