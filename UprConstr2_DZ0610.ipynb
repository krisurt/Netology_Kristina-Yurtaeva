{
 "cells": [
  {
   "cell_type": "code",
   "execution_count": 28,
   "metadata": {},
   "outputs": [
    {
     "name": "stdout",
     "output_type": "stream",
     "text": [
      "{98, 35, 15, 213, 54, 119}\n"
     ]
    }
   ],
   "source": [
    "#Задание 1\n",
    "ids = {'user1': [213, 213, 213, 15, 213], \n",
    "       'user2': [54, 54, 119, 119, 119], \n",
    "       'user3': [213, 98, 98, 35]}\n",
    "\n",
    "m = list()\n",
    "for num in ids.values():\n",
    "    if type(num) == list:\n",
    "        m += num\n",
    "    else:\n",
    "        m.append(num)\n",
    "print(set(m))"
   ]
  },
  {
   "cell_type": "code",
   "execution_count": 236,
   "metadata": {},
   "outputs": [
    {
     "name": "stdout",
     "output_type": "stream",
     "text": [
      "Поисковых запросов, содержащих 2 слов(а): 42.86 %\n",
      "Поисковых запросов, содержащих 3 слов(а): 57.14 %\n"
     ]
    }
   ],
   "source": [
    "#Задание 2\n",
    "queries = [\n",
    "    'смотреть сериалы онлайн',\n",
    "    'новости спорта',\n",
    "    'афиша кино',\n",
    "    'курс доллара',\n",
    "    'сериалы этим летом',\n",
    "    'курс по питону',\n",
    "    'сериалы про спорт',\n",
    "]\n",
    "\n",
    "result = {}\n",
    "total = len(queries)\n",
    " \n",
    "for queries_t in queries:\n",
    "    entry = len((queries_t.split()))\n",
    "    if entry not in result:\n",
    "        result[entry] = 1\n",
    "    else:\n",
    "        result[entry] += 1\n",
    "\n",
    "\n",
    "print(f'Поисковых запросов, содержащих 2 слов(а): {round((result[2]*100/(total)),2)} %')\n",
    "print(f'Поисковых запросов, содержащих 3 слов(а): {round((result[3]*100/(total)),2)} %')"
   ]
  },
  {
   "cell_type": "code",
   "execution_count": 330,
   "metadata": {},
   "outputs": [
    {
     "name": "stdout",
     "output_type": "stream",
     "text": [
      "{'vk': {'revenue': 103, 'cost': 98, 'ROI': 47.83}, 'yandex': {'revenue': 179, 'cost': 153, 'ROI': 47.83}, 'facebook': {'revenue': 103, 'cost': 110, 'ROI': 47.83}, 'adwords': {'revenue': 35, 'cost': 34, 'ROI': 47.83}, 'twitter': {'revenue': 11, 'cost': 24, 'ROI': 47.83}}\n"
     ]
    }
   ],
   "source": [
    "#Задание 3\n",
    "results = {\n",
    "    'vk': {'revenue': 103, 'cost': 98},\n",
    "    'yandex': {'revenue': 179, 'cost': 153},\n",
    "    'facebook': {'revenue': 103, 'cost': 110},\n",
    "    'adwords': {'revenue': 35, 'cost': 34},\n",
    "    'twitter': {'revenue': 11, 'cost': 24},\n",
    "}\n",
    "\n",
    "for k, v in results.items():\n",
    "    ROI = round(((v['revenue']/(v['cost']-1))*100), 2)\n",
    "    for info in results.values():\n",
    "        info['ROI'] = (ROI)\n",
    "        \n",
    "print(results)    "
   ]
  },
  {
   "cell_type": "code",
   "execution_count": 296,
   "metadata": {},
   "outputs": [
    {
     "name": "stdout",
     "output_type": "stream",
     "text": [
      "Максимальный объем продаж на рекламном канале: ['vk']\n"
     ]
    }
   ],
   "source": [
    "#Задание 4\n",
    "stats = {'facebook': 55, 'yandex': 115, 'vk': 120, 'google': 99, 'email': 42, 'ok': 98}\n",
    "\n",
    "max_value = max(stats.values())\n",
    "chanel = {k for k, v in stats.items() if v == max_value}\n",
    "\n",
    "print(f'Максимальный объем продаж на рекламном канале: {list(chanel)}')"
   ]
  },
  {
   "cell_type": "code",
   "execution_count": null,
   "metadata": {},
   "outputs": [],
   "source": []
  }
 ],
 "metadata": {
  "kernelspec": {
   "display_name": "Python 3",
   "language": "python",
   "name": "python3"
  },
  "language_info": {
   "codemirror_mode": {
    "name": "ipython",
    "version": 3
   },
   "file_extension": ".py",
   "mimetype": "text/x-python",
   "name": "python",
   "nbconvert_exporter": "python",
   "pygments_lexer": "ipython3",
   "version": "3.8.3"
  }
 },
 "nbformat": 4,
 "nbformat_minor": 4
}
